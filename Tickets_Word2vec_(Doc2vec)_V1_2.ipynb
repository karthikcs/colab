{
  "nbformat": 4,
  "nbformat_minor": 0,
  "metadata": {
    "colab": {
      "name": "Tickets Word2vec (Doc2vec) V1.2.ipynb",
      "version": "0.3.2",
      "provenance": [],
      "collapsed_sections": [],
      "include_colab_link": true
    },
    "kernelspec": {
      "name": "python3",
      "display_name": "Python 3"
    }
  },
  "cells": [
    {
      "cell_type": "markdown",
      "metadata": {
        "id": "view-in-github",
        "colab_type": "text"
      },
      "source": [
        "<a href=\"https://colab.research.google.com/github/karthikcs/colab/blob/master/Tickets_Word2vec_(Doc2vec)_V1_2.ipynb\" target=\"_parent\"><img src=\"https://colab.research.google.com/assets/colab-badge.svg\" alt=\"Open In Colab\"/></a>"
      ]
    },
    {
      "cell_type": "markdown",
      "metadata": {
        "id": "TxoaL1rJz8HV",
        "colab_type": "text"
      },
      "source": [
        "## Topic Segregation using Doc2Vec and Clustering "
      ]
    },
    {
      "cell_type": "code",
      "metadata": {
        "id": "SxTBXyEEdSeV",
        "colab_type": "code",
        "colab": {}
      },
      "source": [
        "from gensim.models import Word2Vec, KeyedVectors\n",
        "import pandas as pd\n",
        "import nltk"
      ],
      "execution_count": 0,
      "outputs": []
    },
    {
      "cell_type": "markdown",
      "metadata": {
        "id": "FuMPCXfNYiiC",
        "colab_type": "text"
      },
      "source": [
        "### Configuration from the user\n",
        "In section, user can specify some of the configuration needed for the tool to run. Example: Input file url, key column to consider, additional stop words etc"
      ]
    },
    {
      "cell_type": "code",
      "metadata": {
        "id": "ZH6uGJ7kY6wQ",
        "colab_type": "code",
        "colab": {}
      },
      "source": [
        "## Configuration\n",
        "input_file = r'https://storage.googleapis.com/karthik101/incident_reduced.csv'\n",
        "key_field = 'description'\n",
        "no_of_topics = 20\n",
        "more_stopwords = ['hi', 'hello']"
      ],
      "execution_count": 0,
      "outputs": []
    },
    {
      "cell_type": "markdown",
      "metadata": {
        "id": "5yM2F8SRQKxc",
        "colab_type": "text"
      },
      "source": [
        "### Input  Data\n",
        "The data which we are trying to process is a ticket history from past one year. It contains more than 20,000 ticket information. The size of the file is almost 50MB. Github supports not more than 25MB, and hence using the google storage from GCP. (Account : karthikcs101)"
      ]
    },
    {
      "cell_type": "code",
      "metadata": {
        "id": "VJHIMwHCdt9p",
        "colab_type": "code",
        "colab": {}
      },
      "source": [
        "df = pd.read_csv(input_file, encoding = \"ISO-8859-1\")"
      ],
      "execution_count": 0,
      "outputs": []
    },
    {
      "cell_type": "code",
      "metadata": {
        "id": "WzRw9FwVdy3I",
        "colab_type": "code",
        "colab": {}
      },
      "source": [
        "data = df.description.values.tolist()\n",
        "# df.head()"
      ],
      "execution_count": 0,
      "outputs": []
    },
    {
      "cell_type": "markdown",
      "metadata": {
        "id": "XMVFI_c0Qu_4",
        "colab_type": "text"
      },
      "source": [
        "### Data Cleaning\n",
        "Before we start processing the data, we need to perform following pre-processing\n",
        "\n",
        "\n",
        "1.   **Gensim simple_preprocess** - Convert a document into a list of tokens. This lowercases, tokenizes and converts to deaccents\n",
        "2.   **Removing Stopwords** - Removes the stopwords from Spacy. It also removes additional user specified Stopwords\n",
        "3. **Lemmatize** - Using Spacy, converts all the words to Lemmatized words. Example: *message*, *messages*, *messaging* - all gets converted to root word - *message*\n",
        "\n",
        "\n",
        "\n",
        "\n",
        "\n"
      ]
    },
    {
      "cell_type": "code",
      "metadata": {
        "id": "TYTnOgQSThQY",
        "colab_type": "code",
        "colab": {}
      },
      "source": [
        "from gensim.utils import simple_preprocess\n",
        "import spacy\n",
        "\n",
        "nlp = spacy.load('en')\n",
        "stop_words = nlp.Defaults.stop_words"
      ],
      "execution_count": 0,
      "outputs": []
    },
    {
      "cell_type": "code",
      "metadata": {
        "id": "YK94MxLNWBf6",
        "colab_type": "code",
        "colab": {}
      },
      "source": [
        "def simple_processing(sentences):\n",
        "    for sentence in sentences:\n",
        "        yield(simple_preprocess(str(sentence), deacc=True))  \n",
        "        \n",
        "def remove_stopwords(texts):\n",
        "  return [[word for word in simple_preprocess(str(doc)) if word not in stop_words] for doc in texts]        \n",
        "\n",
        "def lemmatization(texts, allowed_postags=['NOUN', 'ADJ', 'VERB', 'ADV']):\n",
        "    \"\"\"https://spacy.io/api/annotation\"\"\"\n",
        "    texts_out = []\n",
        "    for sent in texts:\n",
        "        doc = nlp(\" \".join(sent)) \n",
        "        texts_out.append([token.lemma_ for token in doc if token.pos_ in allowed_postags])\n",
        "    return texts_out"
      ],
      "execution_count": 0,
      "outputs": []
    },
    {
      "cell_type": "code",
      "metadata": {
        "id": "leryhadJWz-j",
        "colab_type": "code",
        "colab": {}
      },
      "source": [
        "## Step 1: Data simple processing\n",
        "data_words = list(simple_processing(data))"
      ],
      "execution_count": 0,
      "outputs": []
    },
    {
      "cell_type": "code",
      "metadata": {
        "id": "4QGW8qetXktI",
        "colab_type": "code",
        "colab": {}
      },
      "source": [
        "## Step 2: Removing Stopwords \n",
        "## Skipping for now \n",
        "# stop_words = nlp.Defaults.stop_words\n",
        "# stp_list = list(stop_words)\n",
        "# stp_list.extend(more_stopwords)\n",
        "# stop_words = set(stp_list)\n",
        "# data_words_nostops = remove_stopwords(data_words)"
      ],
      "execution_count": 0,
      "outputs": []
    },
    {
      "cell_type": "code",
      "metadata": {
        "id": "pKZbHb4tXl86",
        "colab_type": "code",
        "colab": {}
      },
      "source": [
        "## Step 3: Lemmatize the data words\n",
        "## Skipping for now \n",
        "# data_lemmatized = lemmatization(data_words_nostops)\n",
        "# data_lemmatized[:10]"
      ],
      "execution_count": 0,
      "outputs": []
    },
    {
      "cell_type": "code",
      "metadata": {
        "id": "n6CCS21SeRZ9",
        "colab_type": "code",
        "colab": {}
      },
      "source": [
        "tokanized_sentenaces = data_words"
      ],
      "execution_count": 0,
      "outputs": []
    },
    {
      "cell_type": "markdown",
      "metadata": {
        "id": "aBHBLLL_X61r",
        "colab_type": "text"
      },
      "source": [
        "### Now our data is cleaned and ready for Word2Vec processing"
      ]
    },
    {
      "cell_type": "code",
      "metadata": {
        "id": "kVbY24kd3LUs",
        "colab_type": "code",
        "colab": {}
      },
      "source": [
        "tokanized_sentenaces[:10]"
      ],
      "execution_count": 0,
      "outputs": []
    },
    {
      "cell_type": "markdown",
      "metadata": {
        "id": "NlGf1Pxp3IGL",
        "colab_type": "text"
      },
      "source": [
        "### Data modeling  - Doc2Vec \n",
        "https://radimrehurek.com/gensim/models/doc2vec.html"
      ]
    },
    {
      "cell_type": "code",
      "metadata": {
        "id": "Oa7TPsEA3lsN",
        "colab_type": "code",
        "colab": {}
      },
      "source": [
        " from gensim.models.doc2vec import Doc2Vec, TaggedDocument"
      ],
      "execution_count": 0,
      "outputs": []
    },
    {
      "cell_type": "code",
      "metadata": {
        "id": "CUi2eQuv3ZmG",
        "colab_type": "code",
        "colab": {}
      },
      "source": [
        "## Creating Tagged Document for Doc2Vec\n",
        "documents = [TaggedDocument(doc, [i]) for i, doc in enumerate(tokanized_sentenaces)]"
      ],
      "execution_count": 0,
      "outputs": []
    },
    {
      "cell_type": "code",
      "metadata": {
        "id": "rTl6sWPQfnQT",
        "colab_type": "code",
        "colab": {}
      },
      "source": [
        "model = Doc2Vec(documents, vector_size=100, window=2, min_count=1, workers=4)"
      ],
      "execution_count": 0,
      "outputs": []
    },
    {
      "cell_type": "markdown",
      "metadata": {
        "id": "AwE5bqm6NnOx",
        "colab_type": "text"
      },
      "source": [
        "#### Let us try out to see some samples and comparison"
      ]
    },
    {
      "cell_type": "code",
      "metadata": {
        "id": "CvSynIyz37AP",
        "colab_type": "code",
        "colab": {}
      },
      "source": [
        "print(data[30])\n",
        "print(data[39])"
      ],
      "execution_count": 0,
      "outputs": []
    },
    {
      "cell_type": "code",
      "metadata": {
        "id": "yO9HhY5i-nUk",
        "colab_type": "code",
        "colab": {}
      },
      "source": [
        "model.wv.cosine_similarities()"
      ],
      "execution_count": 0,
      "outputs": []
    },
    {
      "cell_type": "code",
      "metadata": {
        "id": "PfWNFqy3cVI6",
        "colab_type": "code",
        "outputId": "9b4e8267-dd3c-4b4d-8088-5840569453c5",
        "colab": {
          "base_uri": "https://localhost:8080/",
          "height": 34
        }
      },
      "source": [
        "one = tokanized_sentenaces[30]\n",
        "two = tokanized_sentenaces[33]\n",
        "\n",
        "vector1 = model.infer_vector(one)\n",
        "# print(vector1)\n",
        "vector2 = model.infer_vector(two)\n",
        "# print(vector2)\n",
        "# model.wv.wmdistance(one, two)\n",
        "model.wv.cosine_similarities(vector1, [vector1, vector2])"
      ],
      "execution_count": 0,
      "outputs": [
        {
          "output_type": "execute_result",
          "data": {
            "text/plain": [
              "array([1.        , 0.72883576], dtype=float32)"
            ]
          },
          "metadata": {
            "tags": []
          },
          "execution_count": 42
        }
      ]
    },
    {
      "cell_type": "code",
      "metadata": {
        "id": "Vao0aIELgVjC",
        "colab_type": "code",
        "colab": {}
      },
      "source": [
        ""
      ],
      "execution_count": 0,
      "outputs": []
    },
    {
      "cell_type": "markdown",
      "metadata": {
        "id": "hm6IRxHTNxNZ",
        "colab_type": "text"
      },
      "source": [
        "#### Represent each line item (Descripion) as a vector and store with the Data Frame"
      ]
    },
    {
      "cell_type": "code",
      "metadata": {
        "id": "RTjZDjGNld7_",
        "colab_type": "code",
        "colab": {}
      },
      "source": [
        "vectors = [model.infer_vector(desc) for desc in tokanized_sentenaces]"
      ],
      "execution_count": 0,
      "outputs": []
    },
    {
      "cell_type": "code",
      "metadata": {
        "id": "qimujF-sOrcc",
        "colab_type": "code",
        "outputId": "71b454b0-f886-4fe9-86fe-2bb650eee7cf",
        "colab": {
          "base_uri": "https://localhost:8080/",
          "height": 85
        }
      },
      "source": [
        "model.wv.cosine_similarities(vector1, vectors)"
      ],
      "execution_count": 0,
      "outputs": [
        {
          "output_type": "stream",
          "text": [
            "[-0.33119848  0.41945872  0.20573749 -0.32744673  1.4933609   1.0280933\n",
            "  0.29825422  1.2858794   2.3606308  -0.7747618 ]\n",
            "[ 0.07841662  0.5612426   0.18695262  0.04362907  1.934794    1.3937353\n",
            "  0.3778075   1.1910995   2.538958   -0.7002043 ]\n"
          ],
          "name": "stdout"
        }
      ]
    },
    {
      "cell_type": "code",
      "metadata": {
        "id": "pqqQ3YvVO1oZ",
        "colab_type": "code",
        "colab": {}
      },
      "source": [
        "df['data_words'] = data_words\n",
        "df['vector']  = vectors\n",
        "\n"
      ],
      "execution_count": 0,
      "outputs": []
    },
    {
      "cell_type": "code",
      "metadata": {
        "id": "JlhsYuplQbH5",
        "colab_type": "code",
        "outputId": "e4c889f7-d3d5-4d16-ba1f-ea23221b0daf",
        "colab": {
          "base_uri": "https://localhost:8080/",
          "height": 369
        }
      },
      "source": [
        "df.to_csv(\"output.csv\")\n",
        "!curl -X POST --data-binary @'output.csv' -H \"Content-Type: text/csv\" \"https://www.googleapis.com/upload/storage/v1/b/karthik101/o?uploadType=media&name=output.csv\""
      ],
      "execution_count": 0,
      "outputs": [
        {
          "output_type": "stream",
          "text": [
            "{\n",
            " \"kind\": \"storage#object\",\n",
            " \"id\": \"karthik101/output.csv/1561376266748871\",\n",
            " \"selfLink\": \"https://www.googleapis.com/storage/v1/b/karthik101/o/output.csv\",\n",
            " \"name\": \"output.csv\",\n",
            " \"bucket\": \"karthik101\",\n",
            " \"generation\": \"1561376266748871\",\n",
            " \"metageneration\": \"1\",\n",
            " \"contentType\": \"text/csv\",\n",
            " \"timeCreated\": \"2019-06-24T11:37:46.748Z\",\n",
            " \"updated\": \"2019-06-24T11:37:46.748Z\",\n",
            " \"storageClass\": \"MULTI_REGIONAL\",\n",
            " \"timeStorageClassUpdated\": \"2019-06-24T11:37:46.748Z\",\n",
            " \"size\": \"92919543\",\n",
            " \"md5Hash\": \"UiSQbFIJJIr/Ark8T3g2Xg==\",\n",
            " \"mediaLink\": \"https://www.googleapis.com/download/storage/v1/b/karthik101/o/output.csv?generation=1561376266748871&alt=media\",\n",
            " \"crc32c\": \"D6a26w==\",\n",
            " \"etag\": \"CMeH9u2DguMCEAE=\"\n",
            "}\n"
          ],
          "name": "stdout"
        }
      ]
    },
    {
      "cell_type": "code",
      "metadata": {
        "id": "n4HzwIxKvdzL",
        "colab_type": "code",
        "colab": {}
      },
      "source": [
        "X = vectors"
      ],
      "execution_count": 0,
      "outputs": []
    },
    {
      "cell_type": "markdown",
      "metadata": {
        "id": "CVpHL9L5YTXy",
        "colab_type": "text"
      },
      "source": [
        "### Apply DBSCAN clustering for the dataset using the Vector representation of input Data"
      ]
    },
    {
      "cell_type": "code",
      "metadata": {
        "id": "0yUyg_dBQj6C",
        "colab_type": "code",
        "colab": {}
      },
      "source": [
        "from sklearn.cluster import DBSCAN\n",
        "from sklearn import metrics\n"
      ],
      "execution_count": 0,
      "outputs": []
    },
    {
      "cell_type": "code",
      "metadata": {
        "id": "rqGAJ94kbe2R",
        "colab_type": "code",
        "colab": {}
      },
      "source": [
        "db = DBSCAN(eps=0.6, min_samples=5).fit(X)"
      ],
      "execution_count": 0,
      "outputs": []
    },
    {
      "cell_type": "code",
      "metadata": {
        "id": "YwYJ8tKTb8Pk",
        "colab_type": "code",
        "outputId": "1dc69b0e-9a3e-4a1a-943e-09abdc08642c",
        "colab": {
          "base_uri": "https://localhost:8080/",
          "height": 34
        }
      },
      "source": [
        "set(db.labels_)"
      ],
      "execution_count": 0,
      "outputs": [
        {
          "output_type": "execute_result",
          "data": {
            "text/plain": [
              "{-1, 0, 1, 2, 3, 4, 5, 6, 7, 8, 9, 10, 11, 12, 13, 14}"
            ]
          },
          "metadata": {
            "tags": []
          },
          "execution_count": 25
        }
      ]
    },
    {
      "cell_type": "code",
      "metadata": {
        "id": "lkF30WBEooNO",
        "colab_type": "code",
        "outputId": "467a774e-17e8-4b77-c36c-38a03c3f9c88",
        "colab": {
          "base_uri": "https://localhost:8080/",
          "height": 34
        }
      },
      "source": [
        "[list(db.labels_).count(i) for i in set(db.labels_) ]"
      ],
      "execution_count": 0,
      "outputs": [
        {
          "output_type": "execute_result",
          "data": {
            "text/plain": [
              "[17636, 1079, 6, 6, 7, 11, 7, 11, 10, 5, 6, 5, 9, 5, 7, 2143]"
            ]
          },
          "metadata": {
            "tags": []
          },
          "execution_count": 26
        }
      ]
    },
    {
      "cell_type": "code",
      "metadata": {
        "id": "28IoosCsrqUA",
        "colab_type": "code",
        "colab": {}
      },
      "source": [
        "list(db.labels_).count(1)\n",
        "df['dbscan-5'] = db.labels_\n",
        "df[df['dbscan-5'] == 1]"
      ],
      "execution_count": 0,
      "outputs": []
    },
    {
      "cell_type": "code",
      "metadata": {
        "id": "dsAEcw1YtR1p",
        "colab_type": "code",
        "outputId": "388ab17d-0c2c-4b81-ddc9-adef83cabea3",
        "colab": {
          "base_uri": "https://localhost:8080/",
          "height": 369
        }
      },
      "source": [
        "df[['dbscan', 'dbscan-5']].to_csv('output-dbscan.csv')\n",
        "!curl -X POST --data-binary @'output-dbscan.csv' -H \"Content-Type: text/csv\" \"https://www.googleapis.com/upload/storage/v1/b/karthik101/o?uploadType=media&name=output-dbscan.csv\""
      ],
      "execution_count": 0,
      "outputs": [
        {
          "output_type": "stream",
          "text": [
            "{\n",
            " \"kind\": \"storage#object\",\n",
            " \"id\": \"karthik101/output-dbscan.csv/1561383573998493\",\n",
            " \"selfLink\": \"https://www.googleapis.com/storage/v1/b/karthik101/o/output-dbscan.csv\",\n",
            " \"name\": \"output-dbscan.csv\",\n",
            " \"bucket\": \"karthik101\",\n",
            " \"generation\": \"1561383573998493\",\n",
            " \"metageneration\": \"1\",\n",
            " \"contentType\": \"text/csv\",\n",
            " \"timeCreated\": \"2019-06-24T13:39:33.998Z\",\n",
            " \"updated\": \"2019-06-24T13:39:33.998Z\",\n",
            " \"storageClass\": \"MULTI_REGIONAL\",\n",
            " \"timeStorageClassUpdated\": \"2019-06-24T13:39:33.998Z\",\n",
            " \"size\": \"204153\",\n",
            " \"md5Hash\": \"cKAFVam1tOUizuvNa1/xag==\",\n",
            " \"mediaLink\": \"https://www.googleapis.com/download/storage/v1/b/karthik101/o/output-dbscan.csv?generation=1561383573998493&alt=media\",\n",
            " \"crc32c\": \"X9eJIw==\",\n",
            " \"etag\": \"CJ2XpYqfguMCEAE=\"\n",
            "}\n"
          ],
          "name": "stdout"
        }
      ]
    },
    {
      "cell_type": "markdown",
      "metadata": {
        "id": "gH_y6qAbrNEt",
        "colab_type": "text"
      },
      "source": [
        "### Apply K-Means Algorithm to see difference in clustering mechanism\n"
      ]
    },
    {
      "cell_type": "code",
      "metadata": {
        "id": "gckG1YLypbl7",
        "colab_type": "code",
        "colab": {}
      },
      "source": [
        "from sklearn.cluster import KMeans"
      ],
      "execution_count": 0,
      "outputs": []
    },
    {
      "cell_type": "code",
      "metadata": {
        "id": "0gmQYNdlvR3N",
        "colab_type": "code",
        "colab": {}
      },
      "source": [
        "kmeans = KMeans(n_clusters=15, random_state=0 ).fit(X)"
      ],
      "execution_count": 0,
      "outputs": []
    },
    {
      "cell_type": "code",
      "metadata": {
        "id": "yu25w7yOvUzV",
        "colab_type": "code",
        "outputId": "3ae0468e-e5db-464e-cc0e-e23a541d538f",
        "colab": {
          "base_uri": "https://localhost:8080/",
          "height": 34
        }
      },
      "source": [
        "[list(kmeans.labels_).count(i) for i in set(kmeans.labels_) ]"
      ],
      "execution_count": 0,
      "outputs": [
        {
          "output_type": "execute_result",
          "data": {
            "text/plain": [
              "[2987, 346, 6541, 460, 223, 74, 565, 284, 1946, 5394, 619, 117, 167, 858, 372]"
            ]
          },
          "metadata": {
            "tags": []
          },
          "execution_count": 29
        }
      ]
    },
    {
      "cell_type": "code",
      "metadata": {
        "id": "RB80_eRDvyTi",
        "colab_type": "code",
        "colab": {}
      },
      "source": [
        "df['kmeans-15'] = kmeans.labels_"
      ],
      "execution_count": 0,
      "outputs": []
    },
    {
      "cell_type": "code",
      "metadata": {
        "id": "vSj881_Xv7On",
        "colab_type": "code",
        "outputId": "2e4ddbf1-4f1c-4d33-df11-44a5a05ec2bf",
        "colab": {
          "base_uri": "https://localhost:8080/",
          "height": 1969
        }
      },
      "source": [
        "df[df['kmeans-15'] == 14]"
      ],
      "execution_count": 0,
      "outputs": [
        {
          "output_type": "execute_result",
          "data": {
            "text/html": [
              "<div>\n",
              "<style scoped>\n",
              "    .dataframe tbody tr th:only-of-type {\n",
              "        vertical-align: middle;\n",
              "    }\n",
              "\n",
              "    .dataframe tbody tr th {\n",
              "        vertical-align: top;\n",
              "    }\n",
              "\n",
              "    .dataframe thead th {\n",
              "        text-align: right;\n",
              "    }\n",
              "</style>\n",
              "<table border=\"1\" class=\"dataframe\">\n",
              "  <thead>\n",
              "    <tr style=\"text-align: right;\">\n",
              "      <th></th>\n",
              "      <th>number</th>\n",
              "      <th>short_description</th>\n",
              "      <th>description</th>\n",
              "      <th>kmeans-15</th>\n",
              "    </tr>\n",
              "  </thead>\n",
              "  <tbody>\n",
              "    <tr>\n",
              "      <th>128</th>\n",
              "      <td>INC0099235</td>\n",
              "      <td>Access to: http://teamsites/isit/helpdesk/pmo/</td>\n",
              "      <td>Hello,\\r\\n\\r\\nAs a designated approver please ...</td>\n",
              "      <td>14</td>\n",
              "    </tr>\n",
              "    <tr>\n",
              "      <th>271</th>\n",
              "      <td>INC0098533</td>\n",
              "      <td>access to QM11 and QM15 in EWP</td>\n",
              "      <td>Dear Team ,\\r\\n\\r\\nPlease create incident and ...</td>\n",
              "      <td>14</td>\n",
              "    </tr>\n",
              "    <tr>\n",
              "      <th>280</th>\n",
              "      <td>INC0098483</td>\n",
              "      <td>Portal tasks</td>\n",
              "      <td>Hello Team,\\r\\n\\r\\nCould you give access to th...</td>\n",
              "      <td>14</td>\n",
              "    </tr>\n",
              "    <tr>\n",
              "      <th>436</th>\n",
              "      <td>INC0097735</td>\n",
              "      <td>RE: CRM Access request INC0067014 GRC pre appr...</td>\n",
              "      <td>Hi Team,\\r\\n\\r\\nWe have now access to SAP but ...</td>\n",
              "      <td>14</td>\n",
              "    </tr>\n",
              "    <tr>\n",
              "      <th>555</th>\n",
              "      <td>INC0097216</td>\n",
              "      <td>RE: FW: Food System - China - Security require...</td>\n",
              "      <td>Ramesh,\\r\\n\\r\\nPlease use plant finance manage...</td>\n",
              "      <td>14</td>\n",
              "    </tr>\n",
              "    <tr>\n",
              "      <th>589</th>\n",
              "      <td>INC0097057</td>\n",
              "      <td>Check the PC situation for X_SurjawanI</td>\n",
              "      <td>Hello,\\r\\n\\r\\nEWP, BW and EWC must be needed\\r...</td>\n",
              "      <td>14</td>\n",
              "    </tr>\n",
              "    <tr>\n",
              "      <th>749</th>\n",
              "      <td>INC0095933</td>\n",
              "      <td>Need to import transports in EWM systme</td>\n",
              "      <td>Svd@ Pls create an incident and assign it to t...</td>\n",
              "      <td>14</td>\n",
              "    </tr>\n",
              "    <tr>\n",
              "      <th>969</th>\n",
              "      <td>INC0094829</td>\n",
              "      <td>RE: Please provide authorization is CRP</td>\n",
              "      <td>Please create user id and assign.\\r\\n\\r\\nFrom:...</td>\n",
              "      <td>14</td>\n",
              "    </tr>\n",
              "    <tr>\n",
              "      <th>1086</th>\n",
              "      <td>INC0094233</td>\n",
              "      <td>EWP Retrofits in EWI</td>\n",
              "      <td>Hi Team,\\r\\n\\r\\nCan you please create an INC a...</td>\n",
              "      <td>14</td>\n",
              "    </tr>\n",
              "    <tr>\n",
              "      <th>1106</th>\n",
              "      <td>INC0094147</td>\n",
              "      <td>New Transaction ZFITVCITI_DUPENTRIES</td>\n",
              "      <td>Dear Team ,\\r\\n\\r\\nPlease raise incident and a...</td>\n",
              "      <td>14</td>\n",
              "    </tr>\n",
              "    <tr>\n",
              "      <th>1248</th>\n",
              "      <td>INC0093425</td>\n",
              "      <td>RE: access SAP Jakub Kaletka</td>\n",
              "      <td>Hello \\r\\n\\r\\nYes Sap I working but I can't us...</td>\n",
              "      <td>14</td>\n",
              "    </tr>\n",
              "    <tr>\n",
              "      <th>1256</th>\n",
              "      <td>INC0093364</td>\n",
              "      <td>RE: CAPEX project creation in SAP</td>\n",
              "      <td>Hi all,\\r\\n\\r\\nWhen I try to approve this proj...</td>\n",
              "      <td>14</td>\n",
              "    </tr>\n",
              "    <tr>\n",
              "      <th>1295</th>\n",
              "      <td>INC0093146</td>\n",
              "      <td>Minitab issue - HC_Define_Glyph</td>\n",
              "      <td>Error message has been the same since three w...</td>\n",
              "      <td>14</td>\n",
              "    </tr>\n",
              "    <tr>\n",
              "      <th>1359</th>\n",
              "      <td>INC0092822</td>\n",
              "      <td>USER REQUEST</td>\n",
              "      <td>Hello Max,\\r\\n\\r\\nPlease approve.\\r\\n\\r\\n@SVD:...</td>\n",
              "      <td>14</td>\n",
              "    </tr>\n",
              "    <tr>\n",
              "      <th>1375</th>\n",
              "      <td>INC0092766</td>\n",
              "      <td>FW: Incidents &amp; tasks status report as of 08.0...</td>\n",
              "      <td>Dear SvD, open a ticket for Non SAP team, call...</td>\n",
              "      <td>14</td>\n",
              "    </tr>\n",
              "    <tr>\n",
              "      <th>1655</th>\n",
              "      <td>INC0091475</td>\n",
              "      <td>access to Share Point</td>\n",
              "      <td>Dear SvD, please raise a ticket for Non SAP\\r\\...</td>\n",
              "      <td>14</td>\n",
              "    </tr>\n",
              "    <tr>\n",
              "      <th>1674</th>\n",
              "      <td>INC0091396</td>\n",
              "      <td>cudam returning from maternity leaving (sap a...</td>\n",
              "      <td>Can u please ensure that Cudam has acces to SA...</td>\n",
              "      <td>14</td>\n",
              "    </tr>\n",
              "    <tr>\n",
              "      <th>1775</th>\n",
              "      <td>INC0090953</td>\n",
              "      <td>Access to SAP EWP System</td>\n",
              "      <td>Hello Helpdesk,\\r\\n\\r\\nPlease find screenshot ...</td>\n",
              "      <td>14</td>\n",
              "    </tr>\n",
              "    <tr>\n",
              "      <th>1840</th>\n",
              "      <td>INC0090646</td>\n",
              "      <td>Create RTR accountant role for Marta Skibi?ska...</td>\n",
              "      <td>Hi, \\r\\n\\r\\nPlease create RTR accountant role ...</td>\n",
              "      <td>14</td>\n",
              "    </tr>\n",
              "    <tr>\n",
              "      <th>1975</th>\n",
              "      <td>INC0090064</td>\n",
              "      <td>Please let me have authorization to use VA41 i...</td>\n",
              "      <td>Hi, Yukie,\\r\\n\\r\\nYou are most welcome! : )\\r\\...</td>\n",
              "      <td>14</td>\n",
              "    </tr>\n",
              "    <tr>\n",
              "      <th>1987</th>\n",
              "      <td>INC0089978</td>\n",
              "      <td>RE: SAP LATAM Master Data Template  -</td>\n",
              "      <td>Hello,\\r\\n\\r\\nCan you please assign the same r...</td>\n",
              "      <td>14</td>\n",
              "    </tr>\n",
              "    <tr>\n",
              "      <th>2090</th>\n",
              "      <td>INC0089118</td>\n",
              "      <td>RE: PLEASE HELP TO FIND THE ERROR in SAP</td>\n",
              "      <td>Hi SVD,\\r\\n\\r\\nPlease create the INC and assig...</td>\n",
              "      <td>14</td>\n",
              "    </tr>\n",
              "    <tr>\n",
              "      <th>2118</th>\n",
              "      <td>INC0088988</td>\n",
              "      <td>APO Transport Moment to SCQ</td>\n",
              "      <td>Hi Basis Team/Balamanikantha,\\r\\n\\r\\nPlease ad...</td>\n",
              "      <td>14</td>\n",
              "    </tr>\n",
              "    <tr>\n",
              "      <th>2284</th>\n",
              "      <td>INC0088051</td>\n",
              "      <td>E+S - E&amp;S access- please grand</td>\n",
              "      <td>Approved.\\r\\n\\r\\nJorge Gómez\\r\\nEuropean &amp; CIS...</td>\n",
              "      <td>14</td>\n",
              "    </tr>\n",
              "    <tr>\n",
              "      <th>2425</th>\n",
              "      <td>INC0087344</td>\n",
              "      <td>FW: FS - BW Profitability Stat Report</td>\n",
              "      <td>Hello SVD,\\r\\n\\r\\nCan you  please create INC b...</td>\n",
              "      <td>14</td>\n",
              "    </tr>\n",
              "    <tr>\n",
              "      <th>2456</th>\n",
              "      <td>INC0087189</td>\n",
              "      <td>Fwd: SAP LATAM Master data Alignment</td>\n",
              "      <td>Ramesh, please provide access to sp1, ewp to S...</td>\n",
              "      <td>14</td>\n",
              "    </tr>\n",
              "    <tr>\n",
              "      <th>2495</th>\n",
              "      <td>INC0086982</td>\n",
              "      <td>Transaction request</td>\n",
              "      <td>Hello Team,\\r\\n\\r\\nIt works..\\r\\n\\r\\nThanks.\\r...</td>\n",
              "      <td>14</td>\n",
              "    </tr>\n",
              "    <tr>\n",
              "      <th>2502</th>\n",
              "      <td>INC0086967</td>\n",
              "      <td>RE: Nakisa &amp; Visio Access</td>\n",
              "      <td>Hi \\r\\n\\r\\nThanks - I have already requested a...</td>\n",
              "      <td>14</td>\n",
              "    </tr>\n",
              "    <tr>\n",
              "      <th>2517</th>\n",
              "      <td>INC0086876</td>\n",
              "      <td>Bank key creation in EWC</td>\n",
              "      <td>Dear Team, \\r\\n\\r\\nCould you advise and help i...</td>\n",
              "      <td>14</td>\n",
              "    </tr>\n",
              "    <tr>\n",
              "      <th>2542</th>\n",
              "      <td>INC0086753</td>\n",
              "      <td>FW: Deployment Details for Portal Change to PW...</td>\n",
              "      <td>Hello SVD,\\r\\n\\r\\nCan you please create INC be...</td>\n",
              "      <td>14</td>\n",
              "    </tr>\n",
              "    <tr>\n",
              "      <th>...</th>\n",
              "      <td>...</td>\n",
              "      <td>...</td>\n",
              "      <td>...</td>\n",
              "      <td>...</td>\n",
              "    </tr>\n",
              "    <tr>\n",
              "      <th>19767</th>\n",
              "      <td>INC0004065</td>\n",
              "      <td>adjust Oracle user profile Abby Wright</td>\n",
              "      <td>\\r\\n\\r\\nHello,\\r\\n\\r\\nAs a designated approver...</td>\n",
              "      <td>14</td>\n",
              "    </tr>\n",
              "    <tr>\n",
              "      <th>19817</th>\n",
              "      <td>INC0003895</td>\n",
              "      <td>*NOVEMBER***SR947 New Report -  Customer Segme...</td>\n",
              "      <td>Hello SVD,\\r\\n\\r\\nPlease create a new incident...</td>\n",
              "      <td>14</td>\n",
              "    </tr>\n",
              "    <tr>\n",
              "      <th>19856</th>\n",
              "      <td>INC0003705</td>\n",
              "      <td>VERY HIGH MESSAGE SAPLOOK ID FOR SAP IN EWP --</td>\n",
              "      <td>@service desk.  Please create incident for thi...</td>\n",
              "      <td>14</td>\n",
              "    </tr>\n",
              "    <tr>\n",
              "      <th>19927</th>\n",
              "      <td>INC0003455</td>\n",
              "      <td>ONBOARDING - NEW T&amp;L EMPLOYEE - NETWORK &amp; SAP ...</td>\n",
              "      <td>Approved.\\r\\n\\r\\nSent from my iPhone\\r\\n\\r\\nOn...</td>\n",
              "      <td>14</td>\n",
              "    </tr>\n",
              "    <tr>\n",
              "      <th>19934</th>\n",
              "      <td>INC0003442</td>\n",
              "      <td>HFM Access for Joanna Owsianka</td>\n",
              "      <td>Dear SvD,\\r\\n\\r\\nMy desktop number is LDZW3319...</td>\n",
              "      <td>14</td>\n",
              "    </tr>\n",
              "    <tr>\n",
              "      <th>19953</th>\n",
              "      <td>INC0003381</td>\n",
              "      <td>RE: Request for SMP password reset</td>\n",
              "      <td>HI SVD,\\r\\n\\r\\nPlease raise a ticket to Basis ...</td>\n",
              "      <td>14</td>\n",
              "    </tr>\n",
              "    <tr>\n",
              "      <th>19968</th>\n",
              "      <td>INC0003335</td>\n",
              "      <td>ECC/ EWP - ONBOARDING - NEW CONTRACTOR - NETWO...</td>\n",
              "      <td>Please find attached form\\r\\n\\r\\n[Submitted by...</td>\n",
              "      <td>14</td>\n",
              "    </tr>\n",
              "    <tr>\n",
              "      <th>20058</th>\n",
              "      <td>INC0003035</td>\n",
              "      <td>New transaction</td>\n",
              "      <td>Hi,the same for me too.\\r\\nKR.\\r\\nFederico\\r\\n...</td>\n",
              "      <td>14</td>\n",
              "    </tr>\n",
              "    <tr>\n",
              "      <th>20130</th>\n",
              "      <td>INC0002819</td>\n",
              "      <td>RE: Oracle access Sophie Green</td>\n",
              "      <td>Hi \\r\\n\\r\\nThis is the access that I need if i...</td>\n",
              "      <td>14</td>\n",
              "    </tr>\n",
              "    <tr>\n",
              "      <th>20141</th>\n",
              "      <td>INC0002785</td>\n",
              "      <td>SharePoint McIntosh&gt;Maintenance write-access</td>\n",
              "      <td>sure assign this ticket to me\\r\\n\\r\\nThanks &amp; ...</td>\n",
              "      <td>14</td>\n",
              "    </tr>\n",
              "    <tr>\n",
              "      <th>20165</th>\n",
              "      <td>INC0002715</td>\n",
              "      <td>EXISTING NETWORK USER - SAP ACCOUNT - New Requ...</td>\n",
              "      <td>[Submitted by Anna.Podbielska@tateandlyle.com]...</td>\n",
              "      <td>14</td>\n",
              "    </tr>\n",
              "    <tr>\n",
              "      <th>20175</th>\n",
              "      <td>INC0002686</td>\n",
              "      <td>Approving travel expenses of Ingrid Bajzikova</td>\n",
              "      <td>Hi,\\r\\n\\r\\nIt should be any user who approves ...</td>\n",
              "      <td>14</td>\n",
              "    </tr>\n",
              "    <tr>\n",
              "      <th>20256</th>\n",
              "      <td>INC0002393</td>\n",
              "      <td>1810014012320 PROMITOR SCF 90 B1000K BP - Crea...</td>\n",
              "      <td>Hi SvD;\\r\\nPls raise a new  INC and assignee i...</td>\n",
              "      <td>14</td>\n",
              "    </tr>\n",
              "    <tr>\n",
              "      <th>20277</th>\n",
              "      <td>INC0002342</td>\n",
              "      <td>FW: sap italy: can you please give me access t...</td>\n",
              "      <td>Dear Team ,\\r\\n\\r\\nKindly create new incident ...</td>\n",
              "      <td>14</td>\n",
              "    </tr>\n",
              "    <tr>\n",
              "      <th>20323</th>\n",
              "      <td>INC0002174</td>\n",
              "      <td>TLWSAPC0 server</td>\n",
              "      <td>Hi SD.\\r\\n\\r\\nPlease open a request ticket wit...</td>\n",
              "      <td>14</td>\n",
              "    </tr>\n",
              "    <tr>\n",
              "      <th>20352</th>\n",
              "      <td>INC0002080</td>\n",
              "      <td>Request access for BMC remedy</td>\n",
              "      <td>Hello Jacek,\\r\\n\\r\\nYes, any request for Remed...</td>\n",
              "      <td>14</td>\n",
              "    </tr>\n",
              "    <tr>\n",
              "      <th>20429</th>\n",
              "      <td>INC0001851</td>\n",
              "      <td>REquest for accesss | RE: CAB Agenda for 11 Ma...</td>\n",
              "      <td>I don't believe Patti or I can grant the acces...</td>\n",
              "      <td>14</td>\n",
              "    </tr>\n",
              "    <tr>\n",
              "      <th>20457</th>\n",
              "      <td>INC0001774</td>\n",
              "      <td>SAG MDE access issue</td>\n",
              "      <td>This still needs follow up.\\r\\n\\r\\nThank you.\\...</td>\n",
              "      <td>14</td>\n",
              "    </tr>\n",
              "    <tr>\n",
              "      <th>20477</th>\n",
              "      <td>INC0001712</td>\n",
              "      <td>transaction ML81N access in EWP</td>\n",
              "      <td>Hello SVD,\\r\\n\\r\\nUser requesting for addition...</td>\n",
              "      <td>14</td>\n",
              "    </tr>\n",
              "    <tr>\n",
              "      <th>20485</th>\n",
              "      <td>INC0001685</td>\n",
              "      <td>EXISTING NETWORK USER - SAP ACCOUNT - New Requ...</td>\n",
              "      <td>Dear Team ,\\r\\n\\r\\nPlease create Servicenow in...</td>\n",
              "      <td>14</td>\n",
              "    </tr>\n",
              "    <tr>\n",
              "      <th>20500</th>\n",
              "      <td>INC0001646</td>\n",
              "      <td>Business Warehouse and ESS tabs</td>\n",
              "      <td>Hi,\\r\\n\\r\\nCan you please grant me also the ac...</td>\n",
              "      <td>14</td>\n",
              "    </tr>\n",
              "    <tr>\n",
              "      <th>20555</th>\n",
              "      <td>INC0001493</td>\n",
              "      <td>FW: SAPLOOK ID  for EWQ</td>\n",
              "      <td>Hi SVD,\\r\\n\\r\\nPlease create an incident and a...</td>\n",
              "      <td>14</td>\n",
              "    </tr>\n",
              "    <tr>\n",
              "      <th>20563</th>\n",
              "      <td>INC0001449</td>\n",
              "      <td>Access Required for CRY system</td>\n",
              "      <td>Approved, Please update our quarterly audit sh...</td>\n",
              "      <td>14</td>\n",
              "    </tr>\n",
              "    <tr>\n",
              "      <th>20628</th>\n",
              "      <td>INC0001212</td>\n",
              "      <td>TATEL (INFORM) PROD - Bloom Health Benefits Pl...</td>\n",
              "      <td>The interface is not able to connect to their ...</td>\n",
              "      <td>14</td>\n",
              "    </tr>\n",
              "    <tr>\n",
              "      <th>20630</th>\n",
              "      <td>INC0001204</td>\n",
              "      <td>TATEL (INFORM) PROD - Bloom Health Benefits Pl...</td>\n",
              "      <td>Hi SVD,\\r\\n\\r\\nPlease create an incident for b...</td>\n",
              "      <td>14</td>\n",
              "    </tr>\n",
              "    <tr>\n",
              "      <th>20655</th>\n",
              "      <td>INC0001127</td>\n",
              "      <td>SAPLOOK ID IN CRC - PLEASE TREAT THIS REQUEST ...</td>\n",
              "      <td>Hello Support,\\r\\n \\r\\n \\r\\nCould you please r...</td>\n",
              "      <td>14</td>\n",
              "    </tr>\n",
              "    <tr>\n",
              "      <th>20720</th>\n",
              "      <td>INC0000885</td>\n",
              "      <td>Access Required for CRY system.</td>\n",
              "      <td>Hi SVD,\\r\\n\\r\\nPlease create an incident and a...</td>\n",
              "      <td>14</td>\n",
              "    </tr>\n",
              "    <tr>\n",
              "      <th>20845</th>\n",
              "      <td>INC0000469</td>\n",
              "      <td>Please complete ZFILE port directory setup in ...</td>\n",
              "      <td>From: Kumar, Venkata \\r\\nSent: Tuesday, May 03...</td>\n",
              "      <td>14</td>\n",
              "    </tr>\n",
              "    <tr>\n",
              "      <th>20850</th>\n",
              "      <td>INC0000453</td>\n",
              "      <td>EXISTING NETWORK USER - PERMISSION REQUEST - f...</td>\n",
              "      <td>Approved\\r\\n\\r\\nFrom: Service Desk \\r\\nSent: 0...</td>\n",
              "      <td>14</td>\n",
              "    </tr>\n",
              "    <tr>\n",
              "      <th>20863</th>\n",
              "      <td>INC0000416</td>\n",
              "      <td>Access to client 000 in EWD for Fiori ADD-ONS</td>\n",
              "      <td>Hello SD team, please rise an incident type re...</td>\n",
              "      <td>14</td>\n",
              "    </tr>\n",
              "  </tbody>\n",
              "</table>\n",
              "<p>372 rows × 4 columns</p>\n",
              "</div>"
            ],
            "text/plain": [
              "           number  ... kmeans-15\n",
              "128    INC0099235  ...        14\n",
              "271    INC0098533  ...        14\n",
              "280    INC0098483  ...        14\n",
              "436    INC0097735  ...        14\n",
              "555    INC0097216  ...        14\n",
              "589    INC0097057  ...        14\n",
              "749    INC0095933  ...        14\n",
              "969    INC0094829  ...        14\n",
              "1086   INC0094233  ...        14\n",
              "1106   INC0094147  ...        14\n",
              "1248   INC0093425  ...        14\n",
              "1256   INC0093364  ...        14\n",
              "1295   INC0093146  ...        14\n",
              "1359   INC0092822  ...        14\n",
              "1375   INC0092766  ...        14\n",
              "1655   INC0091475  ...        14\n",
              "1674   INC0091396  ...        14\n",
              "1775   INC0090953  ...        14\n",
              "1840   INC0090646  ...        14\n",
              "1975   INC0090064  ...        14\n",
              "1987   INC0089978  ...        14\n",
              "2090   INC0089118  ...        14\n",
              "2118   INC0088988  ...        14\n",
              "2284   INC0088051  ...        14\n",
              "2425   INC0087344  ...        14\n",
              "2456   INC0087189  ...        14\n",
              "2495   INC0086982  ...        14\n",
              "2502   INC0086967  ...        14\n",
              "2517   INC0086876  ...        14\n",
              "2542   INC0086753  ...        14\n",
              "...           ...  ...       ...\n",
              "19767  INC0004065  ...        14\n",
              "19817  INC0003895  ...        14\n",
              "19856  INC0003705  ...        14\n",
              "19927  INC0003455  ...        14\n",
              "19934  INC0003442  ...        14\n",
              "19953  INC0003381  ...        14\n",
              "19968  INC0003335  ...        14\n",
              "20058  INC0003035  ...        14\n",
              "20130  INC0002819  ...        14\n",
              "20141  INC0002785  ...        14\n",
              "20165  INC0002715  ...        14\n",
              "20175  INC0002686  ...        14\n",
              "20256  INC0002393  ...        14\n",
              "20277  INC0002342  ...        14\n",
              "20323  INC0002174  ...        14\n",
              "20352  INC0002080  ...        14\n",
              "20429  INC0001851  ...        14\n",
              "20457  INC0001774  ...        14\n",
              "20477  INC0001712  ...        14\n",
              "20485  INC0001685  ...        14\n",
              "20500  INC0001646  ...        14\n",
              "20555  INC0001493  ...        14\n",
              "20563  INC0001449  ...        14\n",
              "20628  INC0001212  ...        14\n",
              "20630  INC0001204  ...        14\n",
              "20655  INC0001127  ...        14\n",
              "20720  INC0000885  ...        14\n",
              "20845  INC0000469  ...        14\n",
              "20850  INC0000453  ...        14\n",
              "20863  INC0000416  ...        14\n",
              "\n",
              "[372 rows x 4 columns]"
            ]
          },
          "metadata": {
            "tags": []
          },
          "execution_count": 31
        }
      ]
    },
    {
      "cell_type": "code",
      "metadata": {
        "id": "16Cf3AKxwwW_",
        "colab_type": "code",
        "outputId": "e15c3436-0430-41fa-92fd-dc7ee55558f6",
        "colab": {
          "base_uri": "https://localhost:8080/",
          "height": 369
        }
      },
      "source": [
        "df[['dbscan', 'dbscan-5', 'kmeans-15']].to_csv('output-dbscan-kmeans.csv')\n",
        "!curl -X POST --data-binary @'output-dbscan-kmeans.csv' -H \"Content-Type: text/csv\" \"https://www.googleapis.com/upload/storage/v1/b/karthik101/o?uploadType=media&name=output-dbscan-kmeans.csv\""
      ],
      "execution_count": 0,
      "outputs": [
        {
          "output_type": "stream",
          "text": [
            "{\n",
            " \"kind\": \"storage#object\",\n",
            " \"id\": \"karthik101/output-dbscan-kmeans.csv/1561384428685891\",\n",
            " \"selfLink\": \"https://www.googleapis.com/storage/v1/b/karthik101/o/output-dbscan-kmeans.csv\",\n",
            " \"name\": \"output-dbscan-kmeans.csv\",\n",
            " \"bucket\": \"karthik101\",\n",
            " \"generation\": \"1561384428685891\",\n",
            " \"metageneration\": \"1\",\n",
            " \"contentType\": \"text/csv\",\n",
            " \"timeCreated\": \"2019-06-24T13:53:48.685Z\",\n",
            " \"updated\": \"2019-06-24T13:53:48.685Z\",\n",
            " \"storageClass\": \"MULTI_REGIONAL\",\n",
            " \"timeStorageClassUpdated\": \"2019-06-24T13:53:48.685Z\",\n",
            " \"size\": \"252842\",\n",
            " \"md5Hash\": \"AqG6BqwMi2gDYvn9/4b7ug==\",\n",
            " \"mediaLink\": \"https://www.googleapis.com/download/storage/v1/b/karthik101/o/output-dbscan-kmeans.csv?generation=1561384428685891&alt=media\",\n",
            " \"crc32c\": \"dzJcsA==\",\n",
            " \"etag\": \"CMOU66GiguMCEAE=\"\n",
            "}\n"
          ],
          "name": "stdout"
        }
      ]
    },
    {
      "cell_type": "markdown",
      "metadata": {
        "id": "z4KyCNuEwinG",
        "colab_type": "text"
      },
      "source": [
        ""
      ]
    }
  ]
}